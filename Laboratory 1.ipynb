{
 "cells": [
  {
   "cell_type": "code",
   "execution_count": 2,
   "id": "bigger-acceptance",
   "metadata": {},
   "outputs": [
    {
     "data": {
      "text/plain": [
       "10"
      ]
     },
     "execution_count": 2,
     "metadata": {},
     "output_type": "execute_result"
    }
   ],
   "source": [
    "import numpy as np\n",
    "import scipy as sp\n",
    "import matplotlib.pyplot as plt\n",
    "import pandas as pd\n",
    "from decimal import Decimal\n",
    "#params:\n",
    "V = 63\n",
    "EPS = 0.00001\n",
    "n = 7 + V % 15\n",
    "p = 0.2 + 0.005*V\n",
    "N = 200\n",
    "lamb = 1 + 0.02*V\n",
    "n"
   ]
  },
  {
   "cell_type": "code",
   "execution_count": 3,
   "id": "round-wilson",
   "metadata": {},
   "outputs": [],
   "source": [
    "def get_frequency_table(xs):\n",
    "    df = pd.DataFrame({\"values\" :xs})\n",
    "    df = pd.value_counts(df[\"values\"]).to_frame().reset_index()\n",
    "    df.columns = ['Value','Count']\n",
    "    df = df.sort_values(by=['Value']) #Сортировка по значению\n",
    "    df.reset_index(inplace = True, drop = True)\n",
    "    return df"
   ]
  },
  {
   "cell_type": "code",
   "execution_count": 4,
   "id": "optical-scenario",
   "metadata": {},
   "outputs": [],
   "source": [
    "def count_edf(freqs):\n",
    "    edm = [0]\n",
    "    s = 0\n",
    "    for i in freqs:\n",
    "        s += i\n",
    "        edm.append(round(s, 5))\n",
    "    return edm"
   ]
  },
  {
   "cell_type": "code",
   "execution_count": 5,
   "id": "french-alliance",
   "metadata": {},
   "outputs": [],
   "source": [
    "def count_emperical_mean(table):\n",
    "    return sum(table.Frequency * table.Value)"
   ]
  },
  {
   "cell_type": "code",
   "execution_count": 6,
   "id": "opposed-thumbnail",
   "metadata": {},
   "outputs": [],
   "source": [
    "def plot_edf(edf, values):\n",
    "    fig = plt.figure(figsize=(15,8))\n",
    "    ax = fig.add_subplot(111)\n",
    "    \n",
    "    W = 0.005\n",
    "    n = len(values)\n",
    "    first = values[0] - 1\n",
    "    plt.arrow(first,0,1,0,width=W,head_width = 0.02)\n",
    "    for i in range(n - 1):\n",
    "        plt.arrow(values[i], edf[i+1], values[i+1] - values[i], 0,width=W, head_width = 0.02)\n",
    "    ax.set(\n",
    "       xlim = [values[0] - 1, values[n - 1] + 1],\n",
    "       ylim = [edf[0], edf[-1] + 0.1])\n",
    "        \n",
    "\n"
   ]
  },
  {
   "cell_type": "code",
   "execution_count": 7,
   "id": "reflected-salem",
   "metadata": {},
   "outputs": [],
   "source": [
    "def count_emperical_dispersion(table):\n",
    "    mean = count_emperical_mean(table)\n",
    "    sqr = sum(table.Frequency * table.Value**2)\n",
    "    return sqr - mean**2"
   ]
  },
  {
   "cell_type": "code",
   "execution_count": 8,
   "id": "prostate-locking",
   "metadata": {},
   "outputs": [],
   "source": [
    "def count_emperical_std(table):\n",
    "    return np.sqrt(count_emperical_dispersion(table))"
   ]
  },
  {
   "cell_type": "code",
   "execution_count": 10,
   "id": "natural-architect",
   "metadata": {},
   "outputs": [],
   "source": [
    "def count_moda(table):\n",
    "    return True"
   ]
  },
  {
   "cell_type": "code",
   "execution_count": 9,
   "id": "corrected-satellite",
   "metadata": {},
   "outputs": [
    {
     "name": "stdout",
     "output_type": "stream",
     "text": [
      "EDF :  [0, 0.47, 0.735, 0.86, 0.91, 0.945, 0.975, 0.98, 0.985, 0.99, 0.995, 1.0]\n",
      "\n",
      "emperical_mean : 1.155\n",
      "\n",
      "emperical_disp : 2.8409750000000007\n",
      "\n",
      "emperical_std  : 1.6855192078407177\n",
      "\n"
     ]
    },
    {
     "data": {
      "image/png": "[encoded data removed]",
      "text/plain": [
       "<Figure size 432x288 with 1 Axes>"
      ]
     },
     "metadata": {
      "needs_background": "light"
     },
     "output_type": "display_data"
    },
    {
     "data": {
      "image/png": "[encoded data removed]",
      "text/plain": [
       "<Figure size 1080x576 with 1 Axes>"
      ]
     },
     "metadata": {
      "needs_background": "light"
     },
     "output_type": "display_data"
    }
   ],
   "source": [
    "def main_count(xs):\n",
    "    table = get_frequency_table(xs)\n",
    "    table.plot(x='Value', y='Count',rot=0);\n",
    "    plt.scatter(table.Value, table.Count, color=\"r\");\n",
    "\n",
    "    table['Frequency'] = table.Count / N\n",
    "    edf = count_edf(table.Frequency) # Empirical distribution function\n",
    "    \n",
    "    emp_mean = count_emperical_mean(table)\n",
    "    emp_disp = count_emperical_dispersion(table)\n",
    "    emp_std  = count_emperical_std(table)\n",
    "    \n",
    "    print(\"EDF : \", edf, end='\\n\\n')\n",
    "    print(\"emperical_mean :\",emp_mean, end='\\n\\n' )\n",
    "    print(\"emperical_disp :\",emp_disp, end='\\n\\n' )\n",
    "    print(\"emperical_std  :\",emp_std, end='\\n\\n' )\n",
    "    plot_edf(edf, table.Value)\n",
    "    \n",
    "    \n",
    "    \n",
    "    \n",
    "main_count(np.random.geometric(p, N) - 1)    \n",
    "#main_count(np.random.binomial(n, p, N))\n",
    "#main_count(np.random.poisson(lamb, N))"
   ]
  },
  {
   "cell_type": "code",
   "execution_count": null,
   "id": "hollywood-programmer",
   "metadata": {},
   "outputs": [],
   "source": []
  }
 ],
 "metadata": {
  "kernelspec": {
   "display_name": "Python 3",
   "language": "python",
   "name": "python3"
  },
  "language_info": {
   "codemirror_mode": {
    "name": "ipython",
    "version": 3
   },
   "file_extension": ".py",
   "mimetype": "text/x-python",
   "name": "python",
   "nbconvert_exporter": "python",
   "pygments_lexer": "ipython3",
   "version": "3.8.5"
  }
 },
 "nbformat": 4,
 "nbformat_minor": 5
}
